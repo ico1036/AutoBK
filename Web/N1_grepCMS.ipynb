{
 "cells": [
  {
   "cell_type": "code",
   "execution_count": 1,
   "metadata": {},
   "outputs": [],
   "source": [
    "import requests\n",
    "from bs4 import BeautifulSoup\n",
    "\n",
    "from pdfminer.pdfinterp import PDFResourceManager, process_pdf\n",
    "from pdfminer.converter import TextConverter\n",
    "from pdfminer.layout import LAParams\n",
    "from io import StringIO\n",
    "from io import open\n",
    "import urllib.request\n"
   ]
  },
  {
   "cell_type": "code",
   "execution_count": 2,
   "metadata": {},
   "outputs": [
    {
     "name": "stderr",
     "output_type": "stream",
     "text": [
      "WARNING:pdfminer.converter:undefined: <PDFType1Font: basefont='WAXMEH+CMEX10'>, 112\n",
      "WARNING:pdfminer.converter:undefined: <PDFType1Font: basefont='WAXMEH+CMEX10'>, 112\n",
      "WARNING:pdfminer.converter:undefined: <PDFType1Font: basefont='TSSSWM+CMMI10'>, 96\n",
      "WARNING:pdfminer.converter:undefined: <PDFType1Font: basefont='TSSSWM+CMMI10'>, 96\n",
      "WARNING:pdfminer.converter:undefined: <PDFType1Font: basefont='WAXMEH+CMEX10'>, 112\n",
      "WARNING:pdfminer.converter:undefined: <PDFType1Font: basefont='WAXMEH+CMEX10'>, 112\n",
      "WARNING:pdfminer.converter:undefined: <PDFType1Font: basefont='WAXMEH+CMEX10'>, 112\n",
      "WARNING:pdfminer.converter:undefined: <PDFType1Font: basefont='WAXMEH+CMEX10'>, 112\n",
      "WARNING:pdfminer.converter:undefined: <PDFType1Font: basefont='WAXMEH+CMEX10'>, 112\n",
      "WARNING:pdfminer.converter:undefined: <PDFType1Font: basefont='WAXMEH+CMEX10'>, 112\n",
      "WARNING:pdfminer.converter:undefined: <PDFType1Font: basefont='WAXMEH+CMEX10'>, 112\n",
      "WARNING:pdfminer.converter:undefined: <PDFType1Font: basefont='AJUKCL+CMSY7'>, 48\n",
      "WARNING:pdfminer.converter:undefined: <PDFType1Font: basefont='TSSSWM+CMMI10'>, 96\n",
      "WARNING:pdfminer.converter:undefined: <PDFType1Font: basefont='WAXMEH+CMEX10'>, 112\n",
      "WARNING:pdfminer.converter:undefined: <PDFType1Font: basefont='WAXMEH+CMEX10'>, 112\n",
      "WARNING:pdfminer.converter:undefined: <PDFType1Font: basefont='WAXMEH+CMEX10'>, 112\n",
      "WARNING:pdfminer.converter:undefined: <PDFType1Font: basefont='WAXMEH+CMEX10'>, 112\n",
      "WARNING:pdfminer.converter:undefined: <PDFType1Font: basefont='TSSSWM+CMMI10'>, 96\n",
      "WARNING:pdfminer.converter:undefined: <PDFType1Font: basefont='TSSSWM+CMMI10'>, 96\n",
      "WARNING:pdfminer.converter:undefined: <PDFType1Font: basefont='WAXMEH+CMEX10'>, 112\n",
      "WARNING:pdfminer.converter:undefined: <PDFType1Font: basefont='WAXMEH+CMEX10'>, 112\n",
      "WARNING:pdfminer.converter:undefined: <PDFType1Font: basefont='WAXMEH+CMEX10'>, 112\n",
      "WARNING:pdfminer.converter:undefined: <PDFType1Font: basefont='WAXMEH+CMEX10'>, 112\n",
      "WARNING:pdfminer.converter:undefined: <PDFType1Font: basefont='WAXMEH+CMEX10'>, 112\n",
      "WARNING:pdfminer.converter:undefined: <PDFType1Font: basefont='WAXMEH+CMEX10'>, 112\n",
      "WARNING:pdfminer.converter:undefined: <PDFType1Font: basefont='WAXMEH+CMEX10'>, 112\n",
      "WARNING:pdfminer.converter:undefined: <PDFType1Font: basefont='WAXMEH+CMEX10'>, 112\n",
      "WARNING:pdfminer.converter:undefined: <PDFType1Font: basefont='TSSSWM+CMMI10'>, 96\n",
      "WARNING:pdfminer.converter:undefined: <PDFType1Font: basefont='TSSSWM+CMMI10'>, 96\n",
      "WARNING:pdfminer.converter:undefined: <PDFType1Font: basefont='TSSSWM+CMMI10'>, 96\n",
      "WARNING:pdfminer.converter:undefined: <PDFType1Font: basefont='TSSSWM+CMMI10'>, 96\n",
      "WARNING:pdfminer.converter:undefined: <PDFType1Font: basefont='WAXMEH+CMEX10'>, 112\n",
      "WARNING:pdfminer.converter:undefined: <PDFType1Font: basefont='WAXMEH+CMEX10'>, 112\n",
      "WARNING:pdfminer.converter:undefined: <PDFType1Font: basefont='WAXMEH+CMEX10'>, 112\n",
      "WARNING:pdfminer.converter:undefined: <PDFType1Font: basefont='WAXMEH+CMEX10'>, 112\n",
      "WARNING:pdfminer.converter:undefined: <PDFType1Font: basefont='WAXMEH+CMEX10'>, 112\n",
      "WARNING:pdfminer.converter:undefined: <PDFType1Font: basefont='TSSSWM+CMMI10'>, 96\n",
      "WARNING:pdfminer.converter:undefined: <PDFType1Font: basefont='WAXMEH+CMEX10'>, 112\n",
      "WARNING:pdfminer.converter:undefined: <PDFType1Font: basefont='WAXMEH+CMEX10'>, 112\n",
      "WARNING:pdfminer.converter:undefined: <PDFType1Font: basefont='WAXMEH+CMEX10'>, 112\n",
      "WARNING:pdfminer.converter:undefined: <PDFType1Font: basefont='WAXMEH+CMEX10'>, 112\n",
      "WARNING:pdfminer.converter:undefined: <PDFType1Font: basefont='WAXMEH+CMEX10'>, 112\n",
      "WARNING:pdfminer.converter:undefined: <PDFType1Font: basefont='TSSSWM+CMMI10'>, 96\n",
      "WARNING:pdfminer.converter:undefined: <PDFType1Font: basefont='WAXMEH+CMEX10'>, 112\n",
      "WARNING:pdfminer.converter:undefined: <PDFType1Font: basefont='TSSSWM+CMMI10'>, 96\n",
      "WARNING:pdfminer.converter:undefined: <PDFType1Font: basefont='WAXMEH+CMEX10'>, 112\n",
      "WARNING:pdfminer.converter:undefined: <PDFType1Font: basefont='WAXMEH+CMEX10'>, 112\n",
      "WARNING:pdfminer.converter:undefined: <PDFType1Font: basefont='TSSSWM+CMMI10'>, 96\n",
      "WARNING:pdfminer.converter:undefined: <PDFType1Font: basefont='TSSSWM+CMMI10'>, 96\n",
      "WARNING:pdfminer.converter:undefined: <PDFType1Font: basefont='PSATPL+CMMI7'>, 96\n",
      "WARNING:pdfminer.converter:undefined: <PDFType1Font: basefont='PSATPL+CMMI7'>, 96\n",
      "WARNING:pdfminer.converter:undefined: <PDFType1Font: basefont='TSSSWM+CMMI10'>, 96\n",
      "WARNING:pdfminer.converter:undefined: <PDFType1Font: basefont='TSSSWM+CMMI10'>, 96\n",
      "WARNING:pdfminer.converter:undefined: <PDFType1Font: basefont='TSSSWM+CMMI10'>, 96\n",
      "WARNING:pdfminer.converter:undefined: <PDFType1Font: basefont='TSSSWM+CMMI10'>, 96\n",
      "WARNING:pdfminer.converter:undefined: <PDFType1Font: basefont='AJUKCL+CMSY7'>, 48\n",
      "WARNING:pdfminer.converter:undefined: <PDFType1Font: basefont='TSSSWM+CMMI10'>, 96\n",
      "WARNING:pdfminer.converter:undefined: <PDFType1Font: basefont='AJUKCL+CMSY7'>, 48\n",
      "WARNING:pdfminer.converter:undefined: <PDFType1Font: basefont='WAXMEH+CMEX10'>, 112\n",
      "WARNING:pdfminer.converter:undefined: <PDFType1Font: basefont='TSSSWM+CMMI10'>, 96\n",
      "WARNING:pdfminer.converter:undefined: <PDFType1Font: basefont='TSSSWM+CMMI10'>, 96\n",
      "WARNING:pdfminer.converter:undefined: <PDFType1Font: basefont='TSSSWM+CMMI10'>, 96\n",
      "WARNING:pdfminer.converter:undefined: <PDFType1Font: basefont='TSSSWM+CMMI10'>, 96\n",
      "WARNING:pdfminer.converter:undefined: <PDFType1Font: basefont='TSSSWM+CMMI10'>, 96\n",
      "WARNING:pdfminer.converter:undefined: <PDFType1Font: basefont='TSSSWM+CMMI10'>, 96\n",
      "WARNING:pdfminer.converter:undefined: <PDFType1Font: basefont='TSSSWM+CMMI10'>, 96\n",
      "WARNING:pdfminer.converter:undefined: <PDFType1Font: basefont='TSSSWM+CMMI10'>, 96\n",
      "WARNING:pdfminer.converter:undefined: <PDFType1Font: basefont='AJUKCL+CMSY7'>, 48\n",
      "WARNING:pdfminer.converter:undefined: <PDFType1Font: basefont='TSSSWM+CMMI10'>, 96\n",
      "WARNING:pdfminer.converter:undefined: <PDFType1Font: basefont='TSSSWM+CMMI10'>, 96\n",
      "WARNING:pdfminer.converter:undefined: <PDFType1Font: basefont='TSSSWM+CMMI10'>, 96\n",
      "WARNING:pdfminer.converter:undefined: <PDFType1Font: basefont='TSSSWM+CMMI10'>, 96\n",
      "WARNING:pdfminer.converter:undefined: <PDFType1Font: basefont='TSSSWM+CMMI10'>, 96\n",
      "WARNING:pdfminer.converter:undefined: <PDFType1Font: basefont='TSSSWM+CMMI10'>, 96\n",
      "WARNING:pdfminer.converter:undefined: <PDFType1Font: basefont='TSSSWM+CMMI10'>, 96\n"
     ]
    }
   ],
   "source": [
    "def read_pdf_file(pdfFile):\n",
    "    rsrcmgr = PDFResourceManager()\n",
    "    retstr = StringIO()\n",
    "    laparams = LAParams()\n",
    "    device = TextConverter(rsrcmgr, retstr, laparams=laparams)\n",
    "\n",
    "    process_pdf(rsrcmgr, device, pdfFile)\n",
    "    device.close()\n",
    "\n",
    "    content = retstr.getvalue()\n",
    "    retstr.close()\n",
    "    return content\n",
    "\n",
    "#pdf_file = open(\"./publi_latest.pdf\", \"rb\")\n",
    "pdf_file = open(\"publi2.pdf\", \"rb\")\n",
    "contents = read_pdf_file(pdf_file)\n",
    "arxiv = contents.split(\"arXiv:\")\n",
    "num_list = []\n",
    "\n",
    "for i in arxiv[1:125]:\n",
    "    a = i.split('.')\n",
    "    c = '.'.join(a[0:2])\n",
    "    num_list.append(c)\n",
    "\n",
    "#print(num_list)\n",
    "\n",
    "#print(type(contents))\n",
    "pdf_file.close()\n"
   ]
  },
  {
   "cell_type": "code",
   "execution_count": 3,
   "metadata": {},
   "outputs": [
    {
     "name": "stdout",
     "output_type": "stream",
     "text": [
      "There is no DOI\n",
      "0 10.1007/JHEP08(2020)139\n",
      "0 10.1103/PhysRevD.102.072001\n",
      "There is no DOI\n",
      "0 10.1103/PhysRevLett.125.152001\n",
      "0 10.1007/JHEP08(2020)051\n",
      "ait\n",
      "1 10.1016/j.physletb.2020.135710\n",
      "ait\n",
      "1 10.1016/j.physletb.2020.135609\n",
      "ait\n",
      "1 10.1016/j.physletb.2020.135502\n",
      "0 10.1007/JHEP07(2020)115\n",
      "0 10.1007/JHEP07(2020)116\n",
      "0 10.1103/PhysRevLett.125.061801\n",
      "0 10.1007/JHEP07(2020)125\n",
      "0 10.1140/epjc/s10052-020-8166-5\n",
      "There is no DOI\n",
      "0 10.1007/JHEP06(2020)076\n",
      "ait\n",
      "1 10.1016/j.physletb.2020.135425\n",
      "ait\n",
      "1 10.1016/j.physletb.2020.135578\n",
      "0 10.1140/epjc/s10052-020-8168-3\n",
      "0 10.1007/JHEP07(2020)126\n",
      "0 10.1103/PhysRevD.102.032007\n",
      "ait\n",
      "1 10.1016/j.physletb.2020.135345\n",
      "0 10.1007/JHEP05(2020)052\n",
      "0 10.1088/2632-2153/ab9023\n",
      "0 10.1007/JHEP06(2020)146\n",
      "0 10.1007/JHEP05(2020)032\n",
      "0 10.1103/PhysRevLett.124.162002\n",
      "0 10.1007/s41781-020-00041-z\n",
      "0 10.1103/PhysRevLett.124.131802\n",
      "0 10.1007/JHEP06(2020)018\n",
      "0 10.1007/JHEP03(2020)131\n",
      "0 10.1007/JHEP03(2020)034\n",
      "0 10.1007/JHEP02(2020)191\n",
      "0 10.1007/JHEP03(2020)103\n",
      "0 10.1103/PhysRevD.101.052010\n",
      "0 10.1007/JHEP03(2020)051\n",
      "0 10.1007/JHEP05(2020)033\n",
      "ait\n",
      "1 10.1016/j.physletb.2020.135203\n",
      "0 10.1103/PhysRevLett.124.202001\n",
      "ait\n",
      "1 10.1016/j.physletb.2020.135448\n",
      "0 10.1007/JHEP03(2020)055\n",
      "0 10.1103/PhysRevLett.125.102001\n",
      "0 10.1007/JHEP02(2020)015\n",
      "0 10.1007/JHEP04(2020)188\n"
     ]
    },
    {
     "ename": "KeyboardInterrupt",
     "evalue": "",
     "output_type": "error",
     "traceback": [
      "\u001b[1;31m---------------------------------------------------------------------------\u001b[0m",
      "\u001b[1;31mKeyboardInterrupt\u001b[0m                         Traceback (most recent call last)",
      "\u001b[1;32m<ipython-input-3-e49c8c9ca102>\u001b[0m in \u001b[0;36m<module>\u001b[1;34m\u001b[0m\n\u001b[0;32m     10\u001b[0m \u001b[1;33m\u001b[0m\u001b[0m\n\u001b[0;32m     11\u001b[0m     \u001b[1;31m#cnt += 1\u001b[0m\u001b[1;33m\u001b[0m\u001b[1;33m\u001b[0m\u001b[1;33m\u001b[0m\u001b[0m\n\u001b[1;32m---> 12\u001b[1;33m     \u001b[0mreq\u001b[0m\u001b[1;33m=\u001b[0m\u001b[0mrequests\u001b[0m\u001b[1;33m.\u001b[0m\u001b[0mget\u001b[0m\u001b[1;33m(\u001b[0m\u001b[0mlink\u001b[0m\u001b[1;33m)\u001b[0m\u001b[1;33m\u001b[0m\u001b[1;33m\u001b[0m\u001b[0m\n\u001b[0m\u001b[0;32m     13\u001b[0m     \u001b[0mhtml\u001b[0m \u001b[1;33m=\u001b[0m \u001b[0mreq\u001b[0m\u001b[1;33m.\u001b[0m\u001b[0mtext\u001b[0m\u001b[1;33m\u001b[0m\u001b[1;33m\u001b[0m\u001b[0m\n\u001b[0;32m     14\u001b[0m     \u001b[0msoup\u001b[0m \u001b[1;33m=\u001b[0m \u001b[0mBeautifulSoup\u001b[0m\u001b[1;33m(\u001b[0m\u001b[0mhtml\u001b[0m\u001b[1;33m,\u001b[0m\u001b[1;34m'html.parser'\u001b[0m\u001b[1;33m)\u001b[0m\u001b[1;33m\u001b[0m\u001b[1;33m\u001b[0m\u001b[0m\n",
      "\u001b[1;32m~\\Anaconda3\\lib\\site-packages\\requests\\api.py\u001b[0m in \u001b[0;36mget\u001b[1;34m(url, params, **kwargs)\u001b[0m\n\u001b[0;32m     74\u001b[0m \u001b[1;33m\u001b[0m\u001b[0m\n\u001b[0;32m     75\u001b[0m     \u001b[0mkwargs\u001b[0m\u001b[1;33m.\u001b[0m\u001b[0msetdefault\u001b[0m\u001b[1;33m(\u001b[0m\u001b[1;34m'allow_redirects'\u001b[0m\u001b[1;33m,\u001b[0m \u001b[1;32mTrue\u001b[0m\u001b[1;33m)\u001b[0m\u001b[1;33m\u001b[0m\u001b[1;33m\u001b[0m\u001b[0m\n\u001b[1;32m---> 76\u001b[1;33m     \u001b[1;32mreturn\u001b[0m \u001b[0mrequest\u001b[0m\u001b[1;33m(\u001b[0m\u001b[1;34m'get'\u001b[0m\u001b[1;33m,\u001b[0m \u001b[0murl\u001b[0m\u001b[1;33m,\u001b[0m \u001b[0mparams\u001b[0m\u001b[1;33m=\u001b[0m\u001b[0mparams\u001b[0m\u001b[1;33m,\u001b[0m \u001b[1;33m**\u001b[0m\u001b[0mkwargs\u001b[0m\u001b[1;33m)\u001b[0m\u001b[1;33m\u001b[0m\u001b[1;33m\u001b[0m\u001b[0m\n\u001b[0m\u001b[0;32m     77\u001b[0m \u001b[1;33m\u001b[0m\u001b[0m\n\u001b[0;32m     78\u001b[0m \u001b[1;33m\u001b[0m\u001b[0m\n",
      "\u001b[1;32m~\\Anaconda3\\lib\\site-packages\\requests\\api.py\u001b[0m in \u001b[0;36mrequest\u001b[1;34m(method, url, **kwargs)\u001b[0m\n\u001b[0;32m     59\u001b[0m     \u001b[1;31m# cases, and look like a memory leak in others.\u001b[0m\u001b[1;33m\u001b[0m\u001b[1;33m\u001b[0m\u001b[1;33m\u001b[0m\u001b[0m\n\u001b[0;32m     60\u001b[0m     \u001b[1;32mwith\u001b[0m \u001b[0msessions\u001b[0m\u001b[1;33m.\u001b[0m\u001b[0mSession\u001b[0m\u001b[1;33m(\u001b[0m\u001b[1;33m)\u001b[0m \u001b[1;32mas\u001b[0m \u001b[0msession\u001b[0m\u001b[1;33m:\u001b[0m\u001b[1;33m\u001b[0m\u001b[1;33m\u001b[0m\u001b[0m\n\u001b[1;32m---> 61\u001b[1;33m         \u001b[1;32mreturn\u001b[0m \u001b[0msession\u001b[0m\u001b[1;33m.\u001b[0m\u001b[0mrequest\u001b[0m\u001b[1;33m(\u001b[0m\u001b[0mmethod\u001b[0m\u001b[1;33m=\u001b[0m\u001b[0mmethod\u001b[0m\u001b[1;33m,\u001b[0m \u001b[0murl\u001b[0m\u001b[1;33m=\u001b[0m\u001b[0murl\u001b[0m\u001b[1;33m,\u001b[0m \u001b[1;33m**\u001b[0m\u001b[0mkwargs\u001b[0m\u001b[1;33m)\u001b[0m\u001b[1;33m\u001b[0m\u001b[1;33m\u001b[0m\u001b[0m\n\u001b[0m\u001b[0;32m     62\u001b[0m \u001b[1;33m\u001b[0m\u001b[0m\n\u001b[0;32m     63\u001b[0m \u001b[1;33m\u001b[0m\u001b[0m\n",
      "\u001b[1;32m~\\Anaconda3\\lib\\site-packages\\requests\\sessions.py\u001b[0m in \u001b[0;36mrequest\u001b[1;34m(self, method, url, params, data, headers, cookies, files, auth, timeout, allow_redirects, proxies, hooks, stream, verify, cert, json)\u001b[0m\n\u001b[0;32m    528\u001b[0m         }\n\u001b[0;32m    529\u001b[0m         \u001b[0msend_kwargs\u001b[0m\u001b[1;33m.\u001b[0m\u001b[0mupdate\u001b[0m\u001b[1;33m(\u001b[0m\u001b[0msettings\u001b[0m\u001b[1;33m)\u001b[0m\u001b[1;33m\u001b[0m\u001b[1;33m\u001b[0m\u001b[0m\n\u001b[1;32m--> 530\u001b[1;33m         \u001b[0mresp\u001b[0m \u001b[1;33m=\u001b[0m \u001b[0mself\u001b[0m\u001b[1;33m.\u001b[0m\u001b[0msend\u001b[0m\u001b[1;33m(\u001b[0m\u001b[0mprep\u001b[0m\u001b[1;33m,\u001b[0m \u001b[1;33m**\u001b[0m\u001b[0msend_kwargs\u001b[0m\u001b[1;33m)\u001b[0m\u001b[1;33m\u001b[0m\u001b[1;33m\u001b[0m\u001b[0m\n\u001b[0m\u001b[0;32m    531\u001b[0m \u001b[1;33m\u001b[0m\u001b[0m\n\u001b[0;32m    532\u001b[0m         \u001b[1;32mreturn\u001b[0m \u001b[0mresp\u001b[0m\u001b[1;33m\u001b[0m\u001b[1;33m\u001b[0m\u001b[0m\n",
      "\u001b[1;32m~\\Anaconda3\\lib\\site-packages\\requests\\sessions.py\u001b[0m in \u001b[0;36msend\u001b[1;34m(self, request, **kwargs)\u001b[0m\n\u001b[0;32m    641\u001b[0m \u001b[1;33m\u001b[0m\u001b[0m\n\u001b[0;32m    642\u001b[0m         \u001b[1;31m# Send the request\u001b[0m\u001b[1;33m\u001b[0m\u001b[1;33m\u001b[0m\u001b[1;33m\u001b[0m\u001b[0m\n\u001b[1;32m--> 643\u001b[1;33m         \u001b[0mr\u001b[0m \u001b[1;33m=\u001b[0m \u001b[0madapter\u001b[0m\u001b[1;33m.\u001b[0m\u001b[0msend\u001b[0m\u001b[1;33m(\u001b[0m\u001b[0mrequest\u001b[0m\u001b[1;33m,\u001b[0m \u001b[1;33m**\u001b[0m\u001b[0mkwargs\u001b[0m\u001b[1;33m)\u001b[0m\u001b[1;33m\u001b[0m\u001b[1;33m\u001b[0m\u001b[0m\n\u001b[0m\u001b[0;32m    644\u001b[0m \u001b[1;33m\u001b[0m\u001b[0m\n\u001b[0;32m    645\u001b[0m         \u001b[1;31m# Total elapsed time of the request (approximately)\u001b[0m\u001b[1;33m\u001b[0m\u001b[1;33m\u001b[0m\u001b[1;33m\u001b[0m\u001b[0m\n",
      "\u001b[1;32m~\\Anaconda3\\lib\\site-packages\\requests\\adapters.py\u001b[0m in \u001b[0;36msend\u001b[1;34m(self, request, stream, timeout, verify, cert, proxies)\u001b[0m\n\u001b[0;32m    447\u001b[0m                     \u001b[0mdecode_content\u001b[0m\u001b[1;33m=\u001b[0m\u001b[1;32mFalse\u001b[0m\u001b[1;33m,\u001b[0m\u001b[1;33m\u001b[0m\u001b[1;33m\u001b[0m\u001b[0m\n\u001b[0;32m    448\u001b[0m                     \u001b[0mretries\u001b[0m\u001b[1;33m=\u001b[0m\u001b[0mself\u001b[0m\u001b[1;33m.\u001b[0m\u001b[0mmax_retries\u001b[0m\u001b[1;33m,\u001b[0m\u001b[1;33m\u001b[0m\u001b[1;33m\u001b[0m\u001b[0m\n\u001b[1;32m--> 449\u001b[1;33m                     \u001b[0mtimeout\u001b[0m\u001b[1;33m=\u001b[0m\u001b[0mtimeout\u001b[0m\u001b[1;33m\u001b[0m\u001b[1;33m\u001b[0m\u001b[0m\n\u001b[0m\u001b[0;32m    450\u001b[0m                 )\n\u001b[0;32m    451\u001b[0m \u001b[1;33m\u001b[0m\u001b[0m\n",
      "\u001b[1;32m~\\Anaconda3\\lib\\site-packages\\urllib3\\connectionpool.py\u001b[0m in \u001b[0;36murlopen\u001b[1;34m(self, method, url, body, headers, retries, redirect, assert_same_host, timeout, pool_timeout, release_conn, chunked, body_pos, **response_kw)\u001b[0m\n\u001b[0;32m    670\u001b[0m                 \u001b[0mbody\u001b[0m\u001b[1;33m=\u001b[0m\u001b[0mbody\u001b[0m\u001b[1;33m,\u001b[0m\u001b[1;33m\u001b[0m\u001b[1;33m\u001b[0m\u001b[0m\n\u001b[0;32m    671\u001b[0m                 \u001b[0mheaders\u001b[0m\u001b[1;33m=\u001b[0m\u001b[0mheaders\u001b[0m\u001b[1;33m,\u001b[0m\u001b[1;33m\u001b[0m\u001b[1;33m\u001b[0m\u001b[0m\n\u001b[1;32m--> 672\u001b[1;33m                 \u001b[0mchunked\u001b[0m\u001b[1;33m=\u001b[0m\u001b[0mchunked\u001b[0m\u001b[1;33m,\u001b[0m\u001b[1;33m\u001b[0m\u001b[1;33m\u001b[0m\u001b[0m\n\u001b[0m\u001b[0;32m    673\u001b[0m             )\n\u001b[0;32m    674\u001b[0m \u001b[1;33m\u001b[0m\u001b[0m\n",
      "\u001b[1;32m~\\Anaconda3\\lib\\site-packages\\urllib3\\connectionpool.py\u001b[0m in \u001b[0;36m_make_request\u001b[1;34m(self, conn, method, url, timeout, chunked, **httplib_request_kw)\u001b[0m\n\u001b[0;32m    374\u001b[0m         \u001b[1;31m# Trigger any extra validation we need to do.\u001b[0m\u001b[1;33m\u001b[0m\u001b[1;33m\u001b[0m\u001b[1;33m\u001b[0m\u001b[0m\n\u001b[0;32m    375\u001b[0m         \u001b[1;32mtry\u001b[0m\u001b[1;33m:\u001b[0m\u001b[1;33m\u001b[0m\u001b[1;33m\u001b[0m\u001b[0m\n\u001b[1;32m--> 376\u001b[1;33m             \u001b[0mself\u001b[0m\u001b[1;33m.\u001b[0m\u001b[0m_validate_conn\u001b[0m\u001b[1;33m(\u001b[0m\u001b[0mconn\u001b[0m\u001b[1;33m)\u001b[0m\u001b[1;33m\u001b[0m\u001b[1;33m\u001b[0m\u001b[0m\n\u001b[0m\u001b[0;32m    377\u001b[0m         \u001b[1;32mexcept\u001b[0m \u001b[1;33m(\u001b[0m\u001b[0mSocketTimeout\u001b[0m\u001b[1;33m,\u001b[0m \u001b[0mBaseSSLError\u001b[0m\u001b[1;33m)\u001b[0m \u001b[1;32mas\u001b[0m \u001b[0me\u001b[0m\u001b[1;33m:\u001b[0m\u001b[1;33m\u001b[0m\u001b[1;33m\u001b[0m\u001b[0m\n\u001b[0;32m    378\u001b[0m             \u001b[1;31m# Py2 raises this as a BaseSSLError, Py3 raises it as socket timeout.\u001b[0m\u001b[1;33m\u001b[0m\u001b[1;33m\u001b[0m\u001b[1;33m\u001b[0m\u001b[0m\n",
      "\u001b[1;32m~\\Anaconda3\\lib\\site-packages\\urllib3\\connectionpool.py\u001b[0m in \u001b[0;36m_validate_conn\u001b[1;34m(self, conn)\u001b[0m\n\u001b[0;32m    992\u001b[0m         \u001b[1;31m# Force connect early to allow us to validate the connection.\u001b[0m\u001b[1;33m\u001b[0m\u001b[1;33m\u001b[0m\u001b[1;33m\u001b[0m\u001b[0m\n\u001b[0;32m    993\u001b[0m         \u001b[1;32mif\u001b[0m \u001b[1;32mnot\u001b[0m \u001b[0mgetattr\u001b[0m\u001b[1;33m(\u001b[0m\u001b[0mconn\u001b[0m\u001b[1;33m,\u001b[0m \u001b[1;34m\"sock\"\u001b[0m\u001b[1;33m,\u001b[0m \u001b[1;32mNone\u001b[0m\u001b[1;33m)\u001b[0m\u001b[1;33m:\u001b[0m  \u001b[1;31m# AppEngine might not have  `.sock`\u001b[0m\u001b[1;33m\u001b[0m\u001b[1;33m\u001b[0m\u001b[0m\n\u001b[1;32m--> 994\u001b[1;33m             \u001b[0mconn\u001b[0m\u001b[1;33m.\u001b[0m\u001b[0mconnect\u001b[0m\u001b[1;33m(\u001b[0m\u001b[1;33m)\u001b[0m\u001b[1;33m\u001b[0m\u001b[1;33m\u001b[0m\u001b[0m\n\u001b[0m\u001b[0;32m    995\u001b[0m \u001b[1;33m\u001b[0m\u001b[0m\n\u001b[0;32m    996\u001b[0m         \u001b[1;32mif\u001b[0m \u001b[1;32mnot\u001b[0m \u001b[0mconn\u001b[0m\u001b[1;33m.\u001b[0m\u001b[0mis_verified\u001b[0m\u001b[1;33m:\u001b[0m\u001b[1;33m\u001b[0m\u001b[1;33m\u001b[0m\u001b[0m\n",
      "\u001b[1;32m~\\Anaconda3\\lib\\site-packages\\urllib3\\connection.py\u001b[0m in \u001b[0;36mconnect\u001b[1;34m(self)\u001b[0m\n\u001b[0;32m    298\u001b[0m     \u001b[1;32mdef\u001b[0m \u001b[0mconnect\u001b[0m\u001b[1;33m(\u001b[0m\u001b[0mself\u001b[0m\u001b[1;33m)\u001b[0m\u001b[1;33m:\u001b[0m\u001b[1;33m\u001b[0m\u001b[1;33m\u001b[0m\u001b[0m\n\u001b[0;32m    299\u001b[0m         \u001b[1;31m# Add certificate verification\u001b[0m\u001b[1;33m\u001b[0m\u001b[1;33m\u001b[0m\u001b[1;33m\u001b[0m\u001b[0m\n\u001b[1;32m--> 300\u001b[1;33m         \u001b[0mconn\u001b[0m \u001b[1;33m=\u001b[0m \u001b[0mself\u001b[0m\u001b[1;33m.\u001b[0m\u001b[0m_new_conn\u001b[0m\u001b[1;33m(\u001b[0m\u001b[1;33m)\u001b[0m\u001b[1;33m\u001b[0m\u001b[1;33m\u001b[0m\u001b[0m\n\u001b[0m\u001b[0;32m    301\u001b[0m         \u001b[0mhostname\u001b[0m \u001b[1;33m=\u001b[0m \u001b[0mself\u001b[0m\u001b[1;33m.\u001b[0m\u001b[0mhost\u001b[0m\u001b[1;33m\u001b[0m\u001b[1;33m\u001b[0m\u001b[0m\n\u001b[0;32m    302\u001b[0m \u001b[1;33m\u001b[0m\u001b[0m\n",
      "\u001b[1;32m~\\Anaconda3\\lib\\site-packages\\urllib3\\connection.py\u001b[0m in \u001b[0;36m_new_conn\u001b[1;34m(self)\u001b[0m\n\u001b[0;32m    155\u001b[0m         \u001b[1;32mtry\u001b[0m\u001b[1;33m:\u001b[0m\u001b[1;33m\u001b[0m\u001b[1;33m\u001b[0m\u001b[0m\n\u001b[0;32m    156\u001b[0m             conn = connection.create_connection(\n\u001b[1;32m--> 157\u001b[1;33m                 \u001b[1;33m(\u001b[0m\u001b[0mself\u001b[0m\u001b[1;33m.\u001b[0m\u001b[0m_dns_host\u001b[0m\u001b[1;33m,\u001b[0m \u001b[0mself\u001b[0m\u001b[1;33m.\u001b[0m\u001b[0mport\u001b[0m\u001b[1;33m)\u001b[0m\u001b[1;33m,\u001b[0m \u001b[0mself\u001b[0m\u001b[1;33m.\u001b[0m\u001b[0mtimeout\u001b[0m\u001b[1;33m,\u001b[0m \u001b[1;33m**\u001b[0m\u001b[0mextra_kw\u001b[0m\u001b[1;33m\u001b[0m\u001b[1;33m\u001b[0m\u001b[0m\n\u001b[0m\u001b[0;32m    158\u001b[0m             )\n\u001b[0;32m    159\u001b[0m \u001b[1;33m\u001b[0m\u001b[0m\n",
      "\u001b[1;32m~\\Anaconda3\\lib\\site-packages\\urllib3\\util\\connection.py\u001b[0m in \u001b[0;36mcreate_connection\u001b[1;34m(address, timeout, source_address, socket_options)\u001b[0m\n\u001b[0;32m     72\u001b[0m             \u001b[1;32mif\u001b[0m \u001b[0msource_address\u001b[0m\u001b[1;33m:\u001b[0m\u001b[1;33m\u001b[0m\u001b[1;33m\u001b[0m\u001b[0m\n\u001b[0;32m     73\u001b[0m                 \u001b[0msock\u001b[0m\u001b[1;33m.\u001b[0m\u001b[0mbind\u001b[0m\u001b[1;33m(\u001b[0m\u001b[0msource_address\u001b[0m\u001b[1;33m)\u001b[0m\u001b[1;33m\u001b[0m\u001b[1;33m\u001b[0m\u001b[0m\n\u001b[1;32m---> 74\u001b[1;33m             \u001b[0msock\u001b[0m\u001b[1;33m.\u001b[0m\u001b[0mconnect\u001b[0m\u001b[1;33m(\u001b[0m\u001b[0msa\u001b[0m\u001b[1;33m)\u001b[0m\u001b[1;33m\u001b[0m\u001b[1;33m\u001b[0m\u001b[0m\n\u001b[0m\u001b[0;32m     75\u001b[0m             \u001b[1;32mreturn\u001b[0m \u001b[0msock\u001b[0m\u001b[1;33m\u001b[0m\u001b[1;33m\u001b[0m\u001b[0m\n\u001b[0;32m     76\u001b[0m \u001b[1;33m\u001b[0m\u001b[0m\n",
      "\u001b[1;31mKeyboardInterrupt\u001b[0m: "
     ]
    }
   ],
   "source": [
    "## --doi list\n",
    "cnt=0\n",
    "total_doi_list=[]\n",
    "plb_doi_list=[]\n",
    "normal_doi_list=[]\n",
    "\n",
    "for link_num in num_list:\n",
    "    #link = 'https://arxiv.org/abs/2002.06398'\n",
    "    link = 'https://arxiv.org/abs/' + link_num\n",
    "\n",
    "    #cnt += 1\n",
    "    req=requests.get(link)\n",
    "    html = req.text\n",
    "    soup = BeautifulSoup(html,'html.parser')\n",
    "\n",
    "    \n",
    "    ## -- Find journal names\n",
    "    bit_plb=0\n",
    "    journal_names = soup.findAll(\"td\", {\"class\": \"tablecell jref\"})\n",
    "    for journal_name in journal_names:\n",
    "        if 'Phys. Lett. B' in journal_name.text:\n",
    "            print('ait')\n",
    "            bit_plb=1\n",
    "\n",
    "    \n",
    "    ## -- Find doi tag\n",
    "    a_tags = soup.select(\"td > a\")\n",
    "    data_doi = str()\n",
    "    for a_tag in a_tags:\n",
    "        if 'doi.org'in a_tag['href']:\n",
    "            data_doi = a_tag['data-doi']\n",
    "            \n",
    "\n",
    "    ## -- Fill doi    \n",
    "    if not data_doi:\n",
    "        print(\"There is no DOI\")\n",
    "        #isDOI = False\n",
    "    else:\n",
    "        print(bit_plb,data_doi)\n",
    "        if bit_plb == 1:\n",
    "            plb_doi_list.append(data_doi)\n",
    "        else:\n",
    "            normal_doi_list.append(data_doi)\n",
    "            #print(\"DOI: \", isDOI)\n",
    "            total_doi_list.append(data_doi)\n",
    "            cnt +=1\n",
    "\n",
    "print(cnt)"
   ]
  },
  {
   "cell_type": "code",
   "execution_count": 4,
   "metadata": {},
   "outputs": [],
   "source": [
    "f = open(\"plb_doi_list.txt\",'a')\n",
    "f.write('\\n'.join(plb_doi_list))\n",
    "f.close()\n",
    "\n",
    "f = open(\"normal_doi_list.txt\",'a')\n",
    "f.write('\\n'.join(normal_doi_list))\n",
    "f.close()"
   ]
  },
  {
   "cell_type": "code",
   "execution_count": 5,
   "metadata": {},
   "outputs": [
    {
     "name": "stdout",
     "output_type": "stream",
     "text": [
      "['10.1016/j.physletb.2020.135710', '10.1016/j.physletb.2020.135609', '10.1016/j.physletb.2020.135502', '10.1016/j.physletb.2020.135425', '10.1016/j.physletb.2020.135578', '10.1016/j.physletb.2020.135345', '10.1016/j.physletb.2020.135203', '10.1016/j.physletb.2020.135448']\n",
      "8\n"
     ]
    }
   ],
   "source": [
    "print(plb_doi_list)\n",
    "print(len(plb_doi_list))"
   ]
  },
  {
   "cell_type": "code",
   "execution_count": 6,
   "metadata": {},
   "outputs": [
    {
     "name": "stdout",
     "output_type": "stream",
     "text": [
      "['10.1007/JHEP08(2020)139', '10.1103/PhysRevD.102.072001', '10.1103/PhysRevLett.125.152001', '10.1007/JHEP08(2020)051', '10.1007/JHEP07(2020)115', '10.1007/JHEP07(2020)116', '10.1103/PhysRevLett.125.061801', '10.1007/JHEP07(2020)125', '10.1140/epjc/s10052-020-8166-5', '10.1007/JHEP06(2020)076', '10.1140/epjc/s10052-020-8168-3', '10.1007/JHEP07(2020)126', '10.1103/PhysRevD.102.032007', '10.1007/JHEP05(2020)052', '10.1088/2632-2153/ab9023', '10.1007/JHEP06(2020)146', '10.1007/JHEP05(2020)032', '10.1103/PhysRevLett.124.162002', '10.1007/s41781-020-00041-z', '10.1103/PhysRevLett.124.131802', '10.1007/JHEP06(2020)018', '10.1007/JHEP03(2020)131', '10.1007/JHEP03(2020)034', '10.1007/JHEP02(2020)191', '10.1007/JHEP03(2020)103', '10.1103/PhysRevD.101.052010', '10.1007/JHEP03(2020)051', '10.1007/JHEP05(2020)033', '10.1103/PhysRevLett.124.202001', '10.1007/JHEP03(2020)055', '10.1103/PhysRevLett.125.102001', '10.1007/JHEP02(2020)015', '10.1007/JHEP04(2020)188']\n",
      "33\n"
     ]
    }
   ],
   "source": [
    "print(normal_doi_list)\n",
    "print(len(normal_doi_list))"
   ]
  },
  {
   "cell_type": "code",
   "execution_count": 7,
   "metadata": {},
   "outputs": [
    {
     "name": "stdout",
     "output_type": "stream",
     "text": [
      "10.1016/j.physletb.2020.135710\n",
      "10.1016/j.physletb.2020.135609\n",
      "10.1016/j.physletb.2020.135502\n",
      "10.1016/j.physletb.2020.135425\n",
      "10.1016/j.physletb.2020.135578\n",
      "10.1016/j.physletb.2020.135345\n",
      "10.1016/j.physletb.2020.135203\n",
      "10.1016/j.physletb.2020.135448\n"
     ]
    }
   ],
   "source": [
    "for i in plb_doi_list[:17]:\n",
    "    print(i)"
   ]
  },
  {
   "cell_type": "code",
   "execution_count": 8,
   "metadata": {},
   "outputs": [
    {
     "name": "stdout",
     "output_type": "stream",
     "text": [
      "10.1007/JHEP08(2020)139\n",
      "10.1103/PhysRevD.102.072001\n",
      "10.1103/PhysRevLett.125.152001\n",
      "10.1007/JHEP08(2020)051\n",
      "10.1007/JHEP07(2020)115\n",
      "10.1007/JHEP07(2020)116\n",
      "10.1103/PhysRevLett.125.061801\n",
      "10.1007/JHEP07(2020)125\n",
      "10.1140/epjc/s10052-020-8166-5\n",
      "10.1007/JHEP06(2020)076\n",
      "10.1140/epjc/s10052-020-8168-3\n",
      "10.1007/JHEP07(2020)126\n",
      "10.1103/PhysRevD.102.032007\n",
      "10.1007/JHEP05(2020)052\n",
      "10.1088/2632-2153/ab9023\n",
      "10.1007/JHEP06(2020)146\n",
      "10.1007/JHEP05(2020)032\n",
      "10.1103/PhysRevLett.124.162002\n",
      "10.1007/s41781-020-00041-z\n",
      "10.1103/PhysRevLett.124.131802\n",
      "10.1007/JHEP06(2020)018\n",
      "10.1007/JHEP03(2020)131\n",
      "10.1007/JHEP03(2020)034\n",
      "10.1007/JHEP02(2020)191\n",
      "10.1007/JHEP03(2020)103\n",
      "10.1103/PhysRevD.101.052010\n",
      "10.1007/JHEP03(2020)051\n",
      "10.1007/JHEP05(2020)033\n",
      "10.1103/PhysRevLett.124.202001\n",
      "10.1007/JHEP03(2020)055\n",
      "10.1103/PhysRevLett.125.102001\n",
      "10.1007/JHEP02(2020)015\n",
      "10.1007/JHEP04(2020)188\n"
     ]
    }
   ],
   "source": [
    "for j in normal_doi_list[:54]:\n",
    "    print(j)"
   ]
  },
  {
   "cell_type": "code",
   "execution_count": null,
   "metadata": {},
   "outputs": [],
   "source": []
  },
  {
   "cell_type": "code",
   "execution_count": null,
   "metadata": {},
   "outputs": [],
   "source": []
  }
 ],
 "metadata": {
  "kernelspec": {
   "display_name": "Python 3",
   "language": "python",
   "name": "python3"
  },
  "language_info": {
   "codemirror_mode": {
    "name": "ipython",
    "version": 3
   },
   "file_extension": ".py",
   "mimetype": "text/x-python",
   "name": "python",
   "nbconvert_exporter": "python",
   "pygments_lexer": "ipython3",
   "version": "3.8.5"
  }
 },
 "nbformat": 4,
 "nbformat_minor": 4
}
