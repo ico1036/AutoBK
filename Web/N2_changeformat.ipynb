{
 "cells": [
  {
   "cell_type": "code",
   "execution_count": 1,
   "metadata": {},
   "outputs": [
    {
     "name": "stdout",
     "output_type": "stream",
     "text": [
      "0 10.1103/PhysRevD.102.032007\n",
      "\n",
      "['Physical Review D', '102', '3', '032007', '2020/08/19']\n",
      " \n",
      "1 10.1007/JHEP06(2020)146\n",
      "\n",
      "['Journal of High Energy Physics', '2020', '6', '146', '2020/06/24']\n",
      " \n",
      "2 10.1007/JHEP05(2020)032\n",
      "\n",
      "['Journal of High Energy Physics', '2020', '5', '32', '2020/05/08']\n",
      " \n",
      "3 10.1103/PhysRevLett.124.162002\n",
      "\n",
      "['Physical Review Letters', '124', '16', '162002', '2020/04/24']\n",
      " \n",
      "4 10.1007/s41781-020-00041-z\n",
      "\n"
     ]
    },
    {
     "ename": "IndexError",
     "evalue": "list index out of range",
     "output_type": "error",
     "traceback": [
      "\u001b[1;31m---------------------------------------------------------------------------\u001b[0m",
      "\u001b[1;31mIndexError\u001b[0m                                Traceback (most recent call last)",
      "\u001b[1;32m<ipython-input-1-3eaf67b2acaa>\u001b[0m in \u001b[0;36m<module>\u001b[1;34m\u001b[0m\n\u001b[0;32m     39\u001b[0m                 \u001b[0mparse\u001b[0m\u001b[1;33m[\u001b[0m\u001b[1;36m4\u001b[0m\u001b[1;33m]\u001b[0m \u001b[1;33m=\u001b[0m \u001b[1;34m'pdf'\u001b[0m\u001b[1;33m\u001b[0m\u001b[1;33m\u001b[0m\u001b[0m\n\u001b[0;32m     40\u001b[0m                 \u001b[0mpaper_url\u001b[0m \u001b[1;33m=\u001b[0m \u001b[1;34m\"/\"\u001b[0m\u001b[1;33m.\u001b[0m\u001b[0mjoin\u001b[0m\u001b[1;33m(\u001b[0m\u001b[0mparse\u001b[0m\u001b[1;33m)\u001b[0m\u001b[1;33m\u001b[0m\u001b[1;33m\u001b[0m\u001b[0m\n\u001b[1;32m---> 41\u001b[1;33m         \u001b[0mattribute\u001b[0m\u001b[1;33m.\u001b[0m\u001b[0mappend\u001b[0m\u001b[1;33m(\u001b[0m\u001b[0msoup\u001b[0m\u001b[1;33m.\u001b[0m\u001b[0mfind_all\u001b[0m\u001b[1;33m(\u001b[0m\u001b[1;34m\"meta\"\u001b[0m\u001b[1;33m,\u001b[0m\u001b[1;33m{\u001b[0m\u001b[1;34m\"name\"\u001b[0m\u001b[1;33m:\u001b[0m\u001b[0mi\u001b[0m\u001b[1;33m}\u001b[0m\u001b[1;33m)\u001b[0m\u001b[1;33m[\u001b[0m\u001b[1;36m0\u001b[0m\u001b[1;33m]\u001b[0m\u001b[1;33m[\u001b[0m\u001b[1;34m'content'\u001b[0m\u001b[1;33m]\u001b[0m\u001b[1;33m)\u001b[0m\u001b[1;33m\u001b[0m\u001b[1;33m\u001b[0m\u001b[0m\n\u001b[0m\u001b[0;32m     42\u001b[0m \u001b[1;33m\u001b[0m\u001b[0m\n\u001b[0;32m     43\u001b[0m     \u001b[0mcnt\u001b[0m\u001b[1;33m+=\u001b[0m\u001b[1;36m1\u001b[0m\u001b[1;33m\u001b[0m\u001b[1;33m\u001b[0m\u001b[0m\n",
      "\u001b[1;31mIndexError\u001b[0m: list index out of range"
     ]
    }
   ],
   "source": [
    "#paper_downloader.py\n",
    "\n",
    "import requests\n",
    "from bs4 import BeautifulSoup\n",
    "\n",
    "f1 = open(\"./normal_doi_list2.txt\",\"r\")\n",
    "f2 = open(\"./paper_list2.txt\",\"w\")\n",
    "f3 = open(\"./paper_url2.txt\",\"w\")\n",
    "\n",
    "attribute_name = ['citation_journal_title','citation_volume','citation_issue','citation_firstpage','citation_date']\n",
    "\n",
    "line_list = f1.readlines()\n",
    "\n",
    "for cnt,line in enumerate(line_list):\n",
    "    if not line: break\n",
    "    print(cnt, line)\n",
    "    req = requests.get('https://doi.org/'+line)\n",
    "    html = req.text\n",
    "    soup = BeautifulSoup(html,'html.parser')\n",
    "\n",
    "    parse = req.url.split('/')\n",
    "    paper_url = str()\n",
    "\n",
    "    attribute=[]\n",
    "    \n",
    "    for i in attribute_name:\n",
    "        if i == 'citation_firstpage':\n",
    "            if attribute[0]=='Journal of High Energy Physics' or attribute[0]=='The European Physical Journal C':\n",
    "                attribute.append(soup.find_all(\"span\",{\"data-test\":'article-number'})[0].text)\n",
    "                continue\n",
    "                \n",
    "        if i == 'citation_date':\n",
    "            if attribute[0]=='Journal of High Energy Physics' or attribute[0]=='The European Physical Journal C':\n",
    "                attribute.append(soup.find_all(\"meta\",{\"name\":'citation_online_date'})[0]['content'])\n",
    "                parse[3] = 'content/pdf'\n",
    "                paper_url = \"/\".join(parse)\n",
    "                break\n",
    "            else:\n",
    "                parse[4] = 'pdf'\n",
    "                paper_url = \"/\".join(parse)\n",
    "        attribute.append(soup.find_all(\"meta\",{\"name\":i})[0]['content'])\n",
    "\n",
    "    cnt+=1\n",
    "    print(attribute)\n",
    "    print(\" \")\n",
    "    f2.write(\",\".join(attribute)+\"\\n\")\n",
    "    f3.write(paper_url+\"\\n\")\n",
    "\n",
    "f1.close()\n",
    "f2.close()\n",
    "f3.close()\n"
   ]
  },
  {
   "cell_type": "code",
   "execution_count": null,
   "metadata": {},
   "outputs": [],
   "source": []
  },
  {
   "cell_type": "code",
   "execution_count": null,
   "metadata": {},
   "outputs": [],
   "source": []
  }
 ],
 "metadata": {
  "kernelspec": {
   "display_name": "Python 3",
   "language": "python",
   "name": "python3"
  },
  "language_info": {
   "codemirror_mode": {
    "name": "ipython",
    "version": 3
   },
   "file_extension": ".py",
   "mimetype": "text/x-python",
   "name": "python",
   "nbconvert_exporter": "python",
   "pygments_lexer": "ipython3",
   "version": "3.7.5"
  }
 },
 "nbformat": 4,
 "nbformat_minor": 4
}
