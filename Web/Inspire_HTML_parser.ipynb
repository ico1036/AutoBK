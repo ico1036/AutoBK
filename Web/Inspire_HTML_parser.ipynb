{
 "cells": [
  {
   "cell_type": "code",
   "execution_count": 1,
   "metadata": {},
   "outputs": [],
   "source": [
    "from bs4 import BeautifulSoup"
   ]
  },
  {
   "cell_type": "code",
   "execution_count": 7,
   "metadata": {},
   "outputs": [],
   "source": [
    "f = open(\"INSPIRE-CiteAll.html\", 'r', encoding=\"utf8\")\n",
    "soup = BeautifulSoup(f, 'html.parser')"
   ]
  },
  {
   "cell_type": "code",
   "execution_count": 19,
   "metadata": {},
   "outputs": [
    {
     "name": "stdout",
     "output_type": "stream",
     "text": [
      "1 https://doi.org/10.1103/PhysRevD.102.092013\n",
      "2 https://doi.org/10.1103/PhysRevD.102.092001\n",
      "3 https://doi.org/10.1016/j.physletb.2020.135988\n",
      "4 https://doi.org/10.1103/PhysRevD.102.112004\n",
      "5 https://doi.org/10.1103/PhysRevD.102.092007\n",
      "6 https://doi.org/10.1007/JHEP09(2020)149\n",
      "7 https://doi.org/10.1103/PhysRevD.102.092012\n",
      "8 https://doi.org/10.1007/JHEP11(2020)039\n",
      "9 https://doi.org/10.1007/JHEP11(2020)001\n",
      "10 https://doi.org/10.1088/1748-0221/15/10/P10002\n",
      "11 https://doi.org/10.1007/JHEP12(2020)085\n",
      "12 https://doi.org/10.1103/PhysRevLett.125.151802\n",
      "13 https://doi.org/10.1103/PhysRevLett.125.222001\n",
      "14 https://doi.org/10.1088/1748-0221/15/10/P10017\n",
      "15 https://doi.org/10.1103/PhysRevD.102.032003\n",
      "16 https://doi.org/10.1103/PhysRevD.102.072001\n",
      "17 https://doi.org/10.1007/JHEP08(2020)139\n",
      "18 https://doi.org/10.1103/PhysRevLett.125.152001\n",
      "19 https://doi.org/10.1007/JHEP08(2020)051\n",
      "20 https://doi.org/10.1016/j.physletb.2020.135710\n",
      "21 https://doi.org/10.1016/j.physletb.2020.135609\n",
      "22 https://doi.org/10.1088/1748-0221/15/06/P06005\n",
      "23 https://doi.org/10.1016/j.physletb.2020.135502\n",
      "24 https://doi.org/10.1007/JHEP07(2020)115\n",
      "25 https://doi.org/10.1007/JHEP07(2020)116\n",
      "26 https://doi.org/10.1103/PhysRevLett.125.061801\n",
      "27 https://doi.org/10.1007/JHEP07(2020)125\n",
      "28 https://doi.org/10.1140/epjc/s10052-020-8166-5\n",
      "29 https://doi.org/10.1088/1748-0221/15/09/P09018\n",
      "30 https://doi.org/10.1007/JHEP06(2020)076\n",
      "31 https://doi.org/10.1016/j.physletb.2020.135578\n",
      "32 https://doi.org/10.1016/j.physletb.2020.135425\n",
      "33 https://doi.org/10.1140/epjc/s10052-020-8168-3\n",
      "34 https://doi.org/10.1007/JHEP07(2020)126\n",
      "35 https://doi.org/10.1103/PhysRevD.102.032007\n",
      "36 https://doi.org/10.1016/j.physletb.2020.135345\n",
      "37 https://doi.org/10.1088/1748-0221/15/06/P06009\n",
      "38 https://doi.org/10.1007/JHEP05(2020)052\n"
     ]
    }
   ],
   "source": [
    "cnt=1\n",
    "for link in soup.find_all('a'):\n",
    "    #print(link.get('href'))\n",
    "    href = link.get('href')\n",
    "    if \"doi\" in href:\n",
    "        print(cnt,href)\n",
    "        cnt+=1\n",
    "    "
   ]
  },
  {
   "cell_type": "code",
   "execution_count": null,
   "metadata": {},
   "outputs": [],
   "source": []
  }
 ],
 "metadata": {
  "kernelspec": {
   "display_name": "Python 3",
   "language": "python",
   "name": "python3"
  },
  "language_info": {
   "codemirror_mode": {
    "name": "ipython",
    "version": 3
   },
   "file_extension": ".py",
   "mimetype": "text/x-python",
   "name": "python",
   "nbconvert_exporter": "python",
   "pygments_lexer": "ipython3",
   "version": "3.8.5"
  }
 },
 "nbformat": 4,
 "nbformat_minor": 4
}
