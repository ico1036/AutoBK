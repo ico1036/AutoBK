{
 "cells": [
  {
   "cell_type": "code",
   "execution_count": 5,
   "metadata": {},
   "outputs": [],
   "source": [
    "import wget\n",
    "\n",
    "f1 = open(\"./paper_url.txt\",\"r\")\n",
    "f2 = open(\"./paper_list.txt\",\"r\")"
   ]
  },
  {
   "cell_type": "code",
   "execution_count": 6,
   "metadata": {},
   "outputs": [],
   "source": [
    "while 1:\n",
    "\n",
    "    pdf_url = f1.readline()\n",
    "    attribute = f2.readline()\n",
    "\n",
    "    if not attribute: break\n",
    "\n",
    "    file_name = \"_\".join(attribute.split(\",\"))\n",
    "    file_name = \"_\".join(file_name.split(\" \"))\n",
    "    file_name = \"\".join(file_name.split(\"/\"))\n",
    "    file_name = file_name.rstrip('\\n')\n",
    "    wget.download(pdf_url,\"./paper/\"+file_name+\".pdf\")\n",
    "\n",
    "f1.close()\n",
    "f2.close()"
   ]
  },
  {
   "cell_type": "code",
   "execution_count": null,
   "metadata": {},
   "outputs": [],
   "source": []
  }
 ],
 "metadata": {
  "kernelspec": {
   "display_name": "Python 3",
   "language": "python",
   "name": "python3"
  },
  "language_info": {
   "codemirror_mode": {
    "name": "ipython",
    "version": 3
   },
   "file_extension": ".py",
   "mimetype": "text/x-python",
   "name": "python",
   "nbconvert_exporter": "python",
   "pygments_lexer": "ipython3",
   "version": "3.7.5"
  }
 },
 "nbformat": 4,
 "nbformat_minor": 4
}
