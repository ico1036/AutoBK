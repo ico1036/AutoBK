{
 "cells": [
  {
   "cell_type": "code",
   "execution_count": 1,
   "metadata": {},
   "outputs": [],
   "source": [
    "import requests\n",
    "from bs4 import BeautifulSoup"
   ]
  },
  {
   "cell_type": "code",
   "execution_count": 2,
   "metadata": {},
   "outputs": [
    {
     "name": "stderr",
     "output_type": "stream",
     "text": [
      "WARNING:pdfminer.converter:undefined: <PDFType1Font: basefont='WVFYIR+CMMI10'>, 96\n",
      "WARNING:pdfminer.converter:undefined: <PDFType1Font: basefont='WVFYIR+CMMI10'>, 96\n",
      "WARNING:pdfminer.converter:undefined: <PDFType1Font: basefont='WAXMEH+CMEX10'>, 112\n",
      "WARNING:pdfminer.converter:undefined: <PDFType1Font: basefont='WAXMEH+CMEX10'>, 112\n",
      "WARNING:pdfminer.converter:undefined: <PDFType1Font: basefont='WAXMEH+CMEX10'>, 112\n",
      "WARNING:pdfminer.converter:undefined: <PDFType1Font: basefont='WAXMEH+CMEX10'>, 112\n",
      "WARNING:pdfminer.converter:undefined: <PDFType1Font: basefont='WAXMEH+CMEX10'>, 112\n",
      "WARNING:pdfminer.converter:undefined: <PDFType1Font: basefont='WAXMEH+CMEX10'>, 112\n",
      "WARNING:pdfminer.converter:undefined: <PDFType1Font: basefont='WAXMEH+CMEX10'>, 112\n",
      "WARNING:pdfminer.converter:undefined: <PDFType1Font: basefont='AJUKCL+CMSY7'>, 48\n",
      "WARNING:pdfminer.converter:undefined: <PDFType1Font: basefont='WVFYIR+CMMI10'>, 96\n",
      "WARNING:pdfminer.converter:undefined: <PDFType1Font: basefont='WAXMEH+CMEX10'>, 112\n",
      "WARNING:pdfminer.converter:undefined: <PDFType1Font: basefont='WAXMEH+CMEX10'>, 112\n",
      "WARNING:pdfminer.converter:undefined: <PDFType1Font: basefont='WAXMEH+CMEX10'>, 112\n",
      "WARNING:pdfminer.converter:undefined: <PDFType1Font: basefont='WAXMEH+CMEX10'>, 112\n",
      "WARNING:pdfminer.converter:undefined: <PDFType1Font: basefont='WVFYIR+CMMI10'>, 96\n",
      "WARNING:pdfminer.converter:undefined: <PDFType1Font: basefont='WVFYIR+CMMI10'>, 96\n",
      "WARNING:pdfminer.converter:undefined: <PDFType1Font: basefont='WAXMEH+CMEX10'>, 112\n",
      "WARNING:pdfminer.converter:undefined: <PDFType1Font: basefont='WAXMEH+CMEX10'>, 112\n",
      "WARNING:pdfminer.converter:undefined: <PDFType1Font: basefont='WAXMEH+CMEX10'>, 112\n",
      "WARNING:pdfminer.converter:undefined: <PDFType1Font: basefont='WAXMEH+CMEX10'>, 112\n",
      "WARNING:pdfminer.converter:undefined: <PDFType1Font: basefont='WAXMEH+CMEX10'>, 112\n",
      "WARNING:pdfminer.converter:undefined: <PDFType1Font: basefont='WAXMEH+CMEX10'>, 112\n",
      "WARNING:pdfminer.converter:undefined: <PDFType1Font: basefont='WAXMEH+CMEX10'>, 112\n",
      "WARNING:pdfminer.converter:undefined: <PDFType1Font: basefont='WAXMEH+CMEX10'>, 112\n",
      "WARNING:pdfminer.converter:undefined: <PDFType1Font: basefont='WVFYIR+CMMI10'>, 96\n",
      "WARNING:pdfminer.converter:undefined: <PDFType1Font: basefont='WVFYIR+CMMI10'>, 96\n",
      "WARNING:pdfminer.converter:undefined: <PDFType1Font: basefont='WVFYIR+CMMI10'>, 96\n",
      "WARNING:pdfminer.converter:undefined: <PDFType1Font: basefont='WVFYIR+CMMI10'>, 96\n",
      "WARNING:pdfminer.converter:undefined: <PDFType1Font: basefont='WAXMEH+CMEX10'>, 112\n",
      "WARNING:pdfminer.converter:undefined: <PDFType1Font: basefont='WAXMEH+CMEX10'>, 112\n",
      "WARNING:pdfminer.converter:undefined: <PDFType1Font: basefont='WAXMEH+CMEX10'>, 112\n",
      "WARNING:pdfminer.converter:undefined: <PDFType1Font: basefont='WAXMEH+CMEX10'>, 112\n",
      "WARNING:pdfminer.converter:undefined: <PDFType1Font: basefont='WAXMEH+CMEX10'>, 112\n",
      "WARNING:pdfminer.converter:undefined: <PDFType1Font: basefont='WVFYIR+CMMI10'>, 96\n",
      "WARNING:pdfminer.converter:undefined: <PDFType1Font: basefont='WAXMEH+CMEX10'>, 112\n",
      "WARNING:pdfminer.converter:undefined: <PDFType1Font: basefont='WAXMEH+CMEX10'>, 112\n",
      "WARNING:pdfminer.converter:undefined: <PDFType1Font: basefont='WAXMEH+CMEX10'>, 112\n",
      "WARNING:pdfminer.converter:undefined: <PDFType1Font: basefont='WAXMEH+CMEX10'>, 112\n",
      "WARNING:pdfminer.converter:undefined: <PDFType1Font: basefont='WAXMEH+CMEX10'>, 112\n",
      "WARNING:pdfminer.converter:undefined: <PDFType1Font: basefont='WVFYIR+CMMI10'>, 96\n",
      "WARNING:pdfminer.converter:undefined: <PDFType1Font: basefont='WAXMEH+CMEX10'>, 112\n",
      "WARNING:pdfminer.converter:undefined: <PDFType1Font: basefont='WVFYIR+CMMI10'>, 96\n",
      "WARNING:pdfminer.converter:undefined: <PDFType1Font: basefont='WAXMEH+CMEX10'>, 112\n",
      "WARNING:pdfminer.converter:undefined: <PDFType1Font: basefont='WAXMEH+CMEX10'>, 112\n",
      "WARNING:pdfminer.converter:undefined: <PDFType1Font: basefont='WVFYIR+CMMI10'>, 96\n",
      "WARNING:pdfminer.converter:undefined: <PDFType1Font: basefont='WVFYIR+CMMI10'>, 96\n",
      "WARNING:pdfminer.converter:undefined: <PDFType1Font: basefont='EXSLKN+CMMI7'>, 96\n",
      "WARNING:pdfminer.converter:undefined: <PDFType1Font: basefont='EXSLKN+CMMI7'>, 96\n",
      "WARNING:pdfminer.converter:undefined: <PDFType1Font: basefont='WVFYIR+CMMI10'>, 96\n",
      "WARNING:pdfminer.converter:undefined: <PDFType1Font: basefont='WVFYIR+CMMI10'>, 96\n",
      "WARNING:pdfminer.converter:undefined: <PDFType1Font: basefont='WVFYIR+CMMI10'>, 96\n",
      "WARNING:pdfminer.converter:undefined: <PDFType1Font: basefont='WVFYIR+CMMI10'>, 96\n",
      "WARNING:pdfminer.converter:undefined: <PDFType1Font: basefont='AJUKCL+CMSY7'>, 48\n",
      "WARNING:pdfminer.converter:undefined: <PDFType1Font: basefont='WVFYIR+CMMI10'>, 96\n",
      "WARNING:pdfminer.converter:undefined: <PDFType1Font: basefont='AJUKCL+CMSY7'>, 48\n",
      "WARNING:pdfminer.converter:undefined: <PDFType1Font: basefont='WAXMEH+CMEX10'>, 112\n",
      "WARNING:pdfminer.converter:undefined: <PDFType1Font: basefont='WVFYIR+CMMI10'>, 96\n",
      "WARNING:pdfminer.converter:undefined: <PDFType1Font: basefont='WVFYIR+CMMI10'>, 96\n",
      "WARNING:pdfminer.converter:undefined: <PDFType1Font: basefont='WVFYIR+CMMI10'>, 96\n",
      "WARNING:pdfminer.converter:undefined: <PDFType1Font: basefont='WVFYIR+CMMI10'>, 96\n",
      "WARNING:pdfminer.converter:undefined: <PDFType1Font: basefont='WVFYIR+CMMI10'>, 96\n",
      "WARNING:pdfminer.converter:undefined: <PDFType1Font: basefont='WVFYIR+CMMI10'>, 96\n",
      "WARNING:pdfminer.converter:undefined: <PDFType1Font: basefont='WVFYIR+CMMI10'>, 96\n",
      "WARNING:pdfminer.converter:undefined: <PDFType1Font: basefont='WVFYIR+CMMI10'>, 96\n",
      "WARNING:pdfminer.converter:undefined: <PDFType1Font: basefont='AJUKCL+CMSY7'>, 48\n",
      "WARNING:pdfminer.converter:undefined: <PDFType1Font: basefont='WVFYIR+CMMI10'>, 96\n",
      "WARNING:pdfminer.converter:undefined: <PDFType1Font: basefont='WVFYIR+CMMI10'>, 96\n",
      "WARNING:pdfminer.converter:undefined: <PDFType1Font: basefont='WVFYIR+CMMI10'>, 96\n",
      "WARNING:pdfminer.converter:undefined: <PDFType1Font: basefont='WVFYIR+CMMI10'>, 96\n",
      "WARNING:pdfminer.converter:undefined: <PDFType1Font: basefont='WVFYIR+CMMI10'>, 96\n",
      "WARNING:pdfminer.converter:undefined: <PDFType1Font: basefont='WVFYIR+CMMI10'>, 96\n",
      "WARNING:pdfminer.converter:undefined: <PDFType1Font: basefont='WVFYIR+CMMI10'>, 96\n"
     ]
    }
   ],
   "source": [
    "from pdfminer.pdfinterp import PDFResourceManager, process_pdf\n",
    "from pdfminer.converter import TextConverter\n",
    "from pdfminer.layout import LAParams\n",
    "from io import StringIO\n",
    "from io import open\n",
    "from urllib.request import urlopen\n",
    "\n",
    "\n",
    "\n",
    "def read_pdf_file(pdfFile):\n",
    "    rsrcmgr = PDFResourceManager()\n",
    "    retstr = StringIO()\n",
    "    laparams = LAParams()\n",
    "    device = TextConverter(rsrcmgr, retstr, laparams=laparams)\n",
    "\n",
    "    process_pdf(rsrcmgr, device, pdfFile)\n",
    "    device.close()\n",
    "\n",
    "    content = retstr.getvalue()\n",
    "    retstr.close()\n",
    "    return content\n",
    "\n",
    "pdf_file = open(\"../sample_data/publi.pdf\", \"rb\")\n",
    "\n",
    "contents = read_pdf_file(pdf_file)\n",
    "arxiv = contents.split(\"arXiv:\")\n",
    "num_list = []\n",
    "for i in arxiv[1:-1]:\n",
    "    a = i.split('.')\n",
    "    c = '.'.join(a[0:2])\n",
    "    num_list.append(c)\n",
    "\n",
    "#print(num_list)\n",
    "\n",
    "#print(type(contents))\n",
    "pdf_file.close()"
   ]
  },
  {
   "cell_type": "code",
   "execution_count": 3,
   "metadata": {},
   "outputs": [
    {
     "name": "stdout",
     "output_type": "stream",
     "text": [
      "There is no DOI\n",
      "There is no DOI\n",
      "There is no DOI\n",
      "There is no DOI\n",
      "There is no DOI\n",
      "There is no DOI\n",
      "There is no DOI\n",
      "Early finished\n"
     ]
    },
    {
     "name": "stderr",
     "output_type": "stream",
     "text": [
      "From cffi callback <function _verify_callback at 0x000002C733774B88>:\n",
      "Traceback (most recent call last):\n",
      "  File \"C:\\Users\\ico10\\Anaconda3\\lib\\site-packages\\OpenSSL\\SSL.py\", line 306, in wrapper\n",
      "    @wraps(callback)\n",
      "KeyboardInterrupt\n"
     ]
    }
   ],
   "source": [
    "try:\n",
    "    #link='https://arxiv.org/abs/1809.08602'\n",
    "    #link='https://arxiv.org/abs/1711.03573' # non doi\n",
    "\n",
    "    cnt=0\n",
    "    filtered_list=[]\n",
    "\n",
    "    for link_num in num_list:\n",
    "        link = 'https://arxiv.org/abs/' + link_num\n",
    "        cnt += 1\n",
    "    \n",
    "    \n",
    "        req=requests.get(link)\n",
    "        html = req.text\n",
    "        soup = BeautifulSoup(html,'html.parser')\n",
    "        #print(soup)\n",
    "    \n",
    "        #isDOI=True\n",
    "\n",
    "        doi = soup.head.find_all('meta',{\"name\" : \"citation_doi\"})\n",
    "\n",
    "        if not doi:\n",
    "            print(\"There is no DOI\")\n",
    "            #isDOI = False\n",
    "        else:\n",
    "            print(doi)\n",
    "            #print(\"DOI: \", isDOI)\n",
    "            filtered_list.append(link)\n",
    "except:\n",
    "    print(\"Early finished\")"
   ]
  },
  {
   "cell_type": "code",
   "execution_count": 4,
   "metadata": {},
   "outputs": [
    {
     "name": "stdout",
     "output_type": "stream",
     "text": [
      "[]\n"
     ]
    }
   ],
   "source": [
    "print(filtered_list)"
   ]
  },
  {
   "cell_type": "code",
   "execution_count": null,
   "metadata": {},
   "outputs": [],
   "source": []
  }
 ],
 "metadata": {
  "kernelspec": {
   "display_name": "Python 3",
   "language": "python",
   "name": "python3"
  },
  "language_info": {
   "codemirror_mode": {
    "name": "ipython",
    "version": 3
   },
   "file_extension": ".py",
   "mimetype": "text/x-python",
   "name": "python",
   "nbconvert_exporter": "python",
   "pygments_lexer": "ipython3",
   "version": "3.7.5"
  }
 },
 "nbformat": 4,
 "nbformat_minor": 4
}
